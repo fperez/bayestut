{
 "metadata": {
  "name": "Bayes-1"
 },
 "nbformat": 3,
 "nbformat_minor": 0,
 "worksheets": [
  {
   "cells": [
    {
     "cell_type": "code",
     "collapsed": false,
     "input": [
      "from thinkbayes import Pmf"
     ],
     "language": "python",
     "metadata": {},
     "outputs": [],
     "prompt_number": 1
    },
    {
     "cell_type": "code",
     "collapsed": false,
     "input": [
      "pmf = Pmf()\n",
      "for x in range(1, 7):\n",
      "    pmf.Set(x, 1)"
     ],
     "language": "python",
     "metadata": {},
     "outputs": [],
     "prompt_number": 2
    },
    {
     "cell_type": "code",
     "collapsed": false,
     "input": [
      "pmf.Print()"
     ],
     "language": "python",
     "metadata": {},
     "outputs": [
      {
       "output_type": "stream",
       "stream": "stdout",
       "text": [
        "1 1\n",
        "2 1\n",
        "3 1\n",
        "4 1\n",
        "5 1\n",
        "6 1\n"
       ]
      }
     ],
     "prompt_number": 3
    },
    {
     "cell_type": "code",
     "collapsed": false,
     "input": [
      "pmf.Normalize()"
     ],
     "language": "python",
     "metadata": {},
     "outputs": [
      {
       "output_type": "pyout",
       "prompt_number": 4,
       "text": [
        "6"
       ]
      }
     ],
     "prompt_number": 4
    },
    {
     "cell_type": "code",
     "collapsed": false,
     "input": [
      "pmf.Print()"
     ],
     "language": "python",
     "metadata": {},
     "outputs": [
      {
       "output_type": "stream",
       "stream": "stdout",
       "text": [
        "1 0.166666666667\n",
        "2 0.166666666667\n",
        "3 0.166666666667\n",
        "4 0.166666666667\n",
        "5 0.166666666667\n",
        "6 0.166666666667\n"
       ]
      }
     ],
     "prompt_number": 5
    },
    {
     "cell_type": "heading",
     "level": 2,
     "metadata": {},
     "source": [
      "Prior"
     ]
    },
    {
     "cell_type": "code",
     "collapsed": false,
     "input": [
      "pmf = Pmf()\n",
      "pmf.Set('Bowl 1', 0.5)\n",
      "pmf.Set('Bowl 2', 0.5)"
     ],
     "language": "python",
     "metadata": {},
     "outputs": [],
     "prompt_number": 6
    },
    {
     "cell_type": "heading",
     "level": 2,
     "metadata": {},
     "source": [
      "Update"
     ]
    },
    {
     "cell_type": "markdown",
     "metadata": {},
     "source": [
      "P(Vanilla | Bowl 1) = 3/4\n",
      "\n",
      "P(Vanilla | Bowl 1) = 2/4"
     ]
    },
    {
     "cell_type": "code",
     "collapsed": false,
     "input": [
      "pmf.Mult('Bowl 1', 0.75)\n",
      "pmf.Mult('Bowl 2', 0.5)"
     ],
     "language": "python",
     "metadata": {},
     "outputs": [],
     "prompt_number": 7
    },
    {
     "cell_type": "heading",
     "level": 2,
     "metadata": {},
     "source": [
      "Normalize"
     ]
    },
    {
     "cell_type": "code",
     "collapsed": false,
     "input": [
      "pmf.Normalize()\n",
      "print pmf.Prob('Bowl 1')"
     ],
     "language": "python",
     "metadata": {},
     "outputs": [
      {
       "output_type": "stream",
       "stream": "stdout",
       "text": [
        "0.6\n"
       ]
      }
     ],
     "prompt_number": 8
    },
    {
     "cell_type": "heading",
     "level": 2,
     "metadata": {},
     "source": [
      "The dice problem"
     ]
    },
    {
     "cell_type": "markdown",
     "metadata": {},
     "source": [
      "We representa  box with dice of [4, 6, 8, 12, 20] sides."
     ]
    },
    {
     "cell_type": "code",
     "collapsed": false,
     "input": [
      "from thinkbayes import Suite\n",
      "\n",
      "# Start with equal priors\n",
      "suite = Suite([4, 6, 8, 12, 20])\n",
      "suite.Print()"
     ],
     "language": "python",
     "metadata": {},
     "outputs": [
      {
       "output_type": "stream",
       "stream": "stdout",
       "text": [
        "4 0.2\n",
        "6 0.2\n",
        "8 0.2\n",
        "12 0.2\n",
        "20 0.2\n"
       ]
      }
     ],
     "prompt_number": 9
    },
    {
     "cell_type": "markdown",
     "metadata": {},
     "source": [
      "We're going to add a `Likelihood` method"
     ]
    },
    {
     "cell_type": "code",
     "collapsed": false,
     "input": [
      "from thinkbayes import Suite\n",
      "\n",
      "class Dice(Suite):\n",
      "    def Likelihood(self, hypo, data):\n",
      "        \"\"\"Computes the likelihood of the data under the hypothesis.\n",
      "\n",
      "        hypo: integer number of sides on the die\n",
      "        data: integer die roll\n",
      "        \"\"\"\n",
      "        num_sides = hypo\n",
      "        outcome = data\n",
      "\n",
      "        if outcome > num_sides:\n",
      "            return 0\n",
      "        else:\n",
      "            return 1.0/num_sides"
     ],
     "language": "python",
     "metadata": {},
     "outputs": [],
     "prompt_number": 18
    },
    {
     "cell_type": "markdown",
     "metadata": {},
     "source": [
      "Let's build a suite that represents our dice:"
     ]
    },
    {
     "cell_type": "code",
     "collapsed": false,
     "input": [
      "suite = Dice([4, 6, 8, 12, 20])"
     ],
     "language": "python",
     "metadata": {},
     "outputs": [],
     "prompt_number": 21
    },
    {
     "cell_type": "markdown",
     "metadata": {},
     "source": [
      "And now let's say that we roll *once* and get a 6.  What does this tells us about the probabilities for the various dice?"
     ]
    },
    {
     "cell_type": "code",
     "collapsed": false,
     "input": [
      "suite.Update(6)\n",
      "print 'After one 6'\n",
      "suite.Print()"
     ],
     "language": "python",
     "metadata": {},
     "outputs": [
      {
       "output_type": "stream",
       "stream": "stdout",
       "text": [
        "After one 6\n",
        "4 0.0\n",
        "6 0.392156862745\n",
        "8 0.294117647059\n",
        "12 0.196078431373\n",
        "20 0.117647058824\n"
       ]
      }
     ],
     "prompt_number": 22
    },
    {
     "cell_type": "markdown",
     "metadata": {},
     "source": [
      "And now let's roll a few more dice and figure out how that informs us about the probability of the die being of a specific size:"
     ]
    },
    {
     "cell_type": "code",
     "collapsed": false,
     "input": [
      "for roll in [6, 4, 8, 7, 7, 2]:\n",
      "    suite.Update(roll)\n",
      "    \n",
      "suite.Print()"
     ],
     "language": "python",
     "metadata": {},
     "outputs": [
      {
       "output_type": "stream",
       "stream": "stdout",
       "text": [
        "4 0.0\n",
        "6 0.0\n",
        "8 0.943248453672\n",
        "12 0.0552061280613\n",
        "20 0.0015454182665\n"
       ]
      }
     ],
     "prompt_number": 23
    },
    {
     "cell_type": "heading",
     "level": 2,
     "metadata": {},
     "source": [
      "The German Tank problem"
     ]
    },
    {
     "cell_type": "markdown",
     "metadata": {},
     "source": [
      "Ref: [Wikipedia page on the German Tank problem](http://en.wikipedia.org/wiki/German_tank_problem)"
     ]
    },
    {
     "cell_type": "code",
     "collapsed": false,
     "input": [
      "%pylab inline"
     ],
     "language": "python",
     "metadata": {},
     "outputs": [
      {
       "output_type": "stream",
       "stream": "stdout",
       "text": [
        "\n",
        "Welcome to pylab, a matplotlib-based Python environment [backend: module://IPython.kernel.zmq.pylab.backend_inline].\n",
        "For more information, type 'help(pylab)'.\n"
       ]
      }
     ],
     "prompt_number": 27
    },
    {
     "cell_type": "code",
     "collapsed": false,
     "input": [
      "import thinkbayes\n",
      "import myplot\n",
      "\n",
      "class Train(thinkbayes.Suite):\n",
      "    \"\"\"Suite of hypotheses about the number of trains.\"\"\"\n",
      "\n",
      "    def Likelihood(self, hypo, data):\n",
      "        \"\"\"Computes the likelihood of the data under the hypothesis.\n",
      "\n",
      "        hypo: integer hypothesis about the number of trains\n",
      "        data: integer serial number of the observed train\n",
      "        \"\"\"\n",
      "        num_trains = hypo\n",
      "        train_seen = data\n",
      "        if train_seen > num_trains:\n",
      "            return 0\n",
      "        else:\n",
      "            return 1.0/num_trains"
     ],
     "language": "python",
     "metadata": {},
     "outputs": [
      {
       "output_type": "stream",
       "stream": "stdout",
       "text": [
        "Given the data, our mean estimate is: 597.344008084\n"
       ]
      },
      {
       "output_type": "display_data",
       "png": "[encoded data removed]",
       "text": [
        "<matplotlib.figure.Figure at 0x3abbc90>"
       ]
      }
     ],
     "prompt_number": 31
    },
    {
     "cell_type": "code",
     "collapsed": false,
     "input": [
      "hypos = xrange(100, 1001)\n",
      "suite = Train(hypos)\n",
      "\n",
      "suite.Update(321)\n",
      "print 'Given the data, our mean estimate is:',\n",
      "print suite.Mean()\n",
      "\n",
      "myplot.Pmf(suite)"
     ],
     "language": "python",
     "metadata": {},
     "outputs": [
      {
       "output_type": "stream",
       "stream": "stdout",
       "text": [
        "Given the data, our mean estimate is: 597.344008084\n"
       ]
      },
      {
       "output_type": "display_data",
       "png": "[encoded data removed]",
       "text": [
        "<matplotlib.figure.Figure at 0x3b8c590>"
       ]
      }
     ],
     "prompt_number": 34
    },
    {
     "cell_type": "markdown",
     "metadata": {},
     "source": [
      "Let's now assume we're spotting a few more trains, and let's see how our posterior updates as we measure this data:"
     ]
    },
    {
     "cell_type": "code",
     "collapsed": false,
     "input": [
      "for train in [782, 423]:\n",
      "    suite.Update(train)\n",
      "\n",
      "print 'Given the data, our mean estimate is:',\n",
      "print suite.Mean()\n",
      "myplot.Pmf(suite)"
     ],
     "language": "python",
     "metadata": {},
     "outputs": [
      {
       "output_type": "stream",
       "stream": "stdout",
       "text": [
        "Given the data, our mean estimate is: 877.54322135\n"
       ]
      },
      {
       "output_type": "display_data",
       "png": "[encoded data removed]",
       "text": [
        "<matplotlib.figure.Figure at 0x38fded0>"
       ]
      }
     ],
     "prompt_number": 35
    },
    {
     "cell_type": "heading",
     "level": 2,
     "metadata": {},
     "source": [
      "Euro problem"
     ]
    },
    {
     "cell_type": "markdown",
     "metadata": {},
     "source": [
      "*Estimation:* based on the data (140h, 110t), what is the probability that the coin lands heads?\n",
      "    \n",
      "*Hypothesis testing:* what is the probability that the coin is fair?"
     ]
    },
    {
     "cell_type": "code",
     "collapsed": false,
     "input": [
      "class Euro(thinkbayes.Suite):\n",
      "\n",
      "    def Likelihood(self, hypo, data):\n",
      "        \"\"\"Computes the likelihood of the data under the hypothesis.\n",
      "\n",
      "        hypo: integer value of x, the probability of heads (0-100)\n",
      "        data: string 'H' or 'T'\n",
      "        \"\"\"\n",
      "        # Note: while we're writing the likelihood function, we\n",
      "        # *assume* the hypothesis is true.  Don't forget this!\n",
      "        \n",
      "        # We convert the hypothesis to a probability in the 0-1 range:\n",
      "        x = hypo/100.0\n",
      "        \n",
      "        # Now, since the hypothesis is about Heads, if the data is H\n",
      "        # it means the hypothesis is True, so we can just return the hypothesis\n",
      "        if data == 'H':\n",
      "            return x\n",
      "        else:\n",
      "            return 1-x\n",
      "\n",
      "suite = Euro(range(0, 101))\n",
      "myplot.Pmf(suite)"
     ],
     "language": "python",
     "metadata": {},
     "outputs": [
      {
       "output_type": "display_data",
       "png": "[encoded data removed]",
       "text": [
        "<matplotlib.figure.Figure at 0x3abbd90>"
       ]
      }
     ],
     "prompt_number": 40
    },
    {
     "cell_type": "code",
     "collapsed": false,
     "input": [
      "suite.Update('H')\n",
      "myplot.Pmf(suite)"
     ],
     "language": "python",
     "metadata": {},
     "outputs": [
      {
       "output_type": "display_data",
       "png": "[encoded data removed]",
       "text": [
        "<matplotlib.figure.Figure at 0x3ba4a50>"
       ]
      }
     ],
     "prompt_number": 41
    },
    {
     "cell_type": "code",
     "collapsed": false,
     "input": [
      "suite.Update('H')\n",
      "myplot.Pmf(suite)"
     ],
     "language": "python",
     "metadata": {},
     "outputs": [
      {
       "output_type": "display_data",
       "png": "[encoded data removed]",
       "text": [
        "<matplotlib.figure.Figure at 0x3c2c4d0>"
       ]
      }
     ],
     "prompt_number": 42
    },
    {
     "cell_type": "code",
     "collapsed": false,
     "input": [
      "suite.Update('T')\n",
      "myplot.Pmf(suite)"
     ],
     "language": "python",
     "metadata": {},
     "outputs": [
      {
       "output_type": "display_data",
       "png": "[encoded data removed]",
       "text": [
        "<matplotlib.figure.Figure at 0x3bb7590>"
       ]
      }
     ],
     "prompt_number": 43
    },
    {
     "cell_type": "code",
     "collapsed": false,
     "input": [
      "for outocme in 'HHHHHHHHTTT':\n",
      "    suite.Update(outocme)\n",
      "myplot.Pmf(suite)"
     ],
     "language": "python",
     "metadata": {},
     "outputs": [
      {
       "output_type": "display_data",
       "png": "[encoded data removed]",
       "text": [
        "<matplotlib.figure.Figure at 0x3b8c190>"
       ]
      }
     ],
     "prompt_number": 44
    },
    {
     "cell_type": "code",
     "collapsed": false,
     "input": [
      "suite = Euro(range(0, 101))\n",
      "for outocme in 'H'*140 + 'T'*110:\n",
      "    suite.Update(outocme)\n",
      "myplot.Pmf(suite)"
     ],
     "language": "python",
     "metadata": {},
     "outputs": [
      {
       "output_type": "display_data",
       "png": "[encoded data removed]",
       "text": [
        "<matplotlib.figure.Figure at 0x3ba2590>"
       ]
      }
     ],
     "prompt_number": 45
    },
    {
     "cell_type": "markdown",
     "metadata": {},
     "source": [
      "What is the probability that the coin is fair? I.e., what is the prob. that x is 50%?"
     ]
    },
    {
     "cell_type": "code",
     "collapsed": false,
     "input": [
      "suite.Prob(50)"
     ],
     "language": "python",
     "metadata": {},
     "outputs": [
      {
       "output_type": "pyout",
       "prompt_number": 48,
       "text": [
        "0.02097652612954468"
       ]
      }
     ],
     "prompt_number": 48
    },
    {
     "cell_type": "heading",
     "level": 2,
     "metadata": {},
     "source": [
      "Hypothesis testing"
     ]
    },
    {
     "cell_type": "code",
     "collapsed": false,
     "input": [
      "%load euro2.py"
     ],
     "language": "python",
     "metadata": {},
     "outputs": [],
     "prompt_number": 49
    },
    {
     "cell_type": "code",
     "collapsed": false,
     "input": [
      "class Euro(thinkbayes.Suite):\n",
      "\n",
      "    def Likelihood(self, hypo, data):\n",
      "        \"\"\"Computes the likelihood of the data under the hypothesis.\n",
      "\n",
      "        hypo: integer value of x, the probability of heads (0-100)\n",
      "        data: string 'H' or 'T'\n",
      "        \"\"\"\n",
      "        x = hypo / 100.0\n",
      "        heads, tails = data\n",
      "        like = x**heads * (1-x)**tails\n",
      "        return like\n",
      "\n",
      "\n",
      "def AverageLikelihood(suite, data):\n",
      "    \"\"\"Computes the average likelihood over all hypothesis in suite.\n",
      "\n",
      "    Args:\n",
      "      suite: Suite of hypotheses\n",
      "      data: some representation of the observed data\n",
      "\n",
      "    Returns:\n",
      "      float\n",
      "    \"\"\"\n",
      "    total = 0\n",
      "\n",
      "    for hypo, prob in suite.Items():\n",
      "        like = suite.Likelihood(hypo, data)\n",
      "        total += prob * like\n",
      "\n",
      "    return total"
     ],
     "language": "python",
     "metadata": {},
     "outputs": [],
     "prompt_number": 50
    },
    {
     "cell_type": "code",
     "collapsed": false,
     "input": [
      "fair = Euro()\n",
      "fair.Set(50, 1)\n",
      "\n",
      "bias = Euro()\n",
      "for x in range(0, 101):\n",
      "    if x != 50:\n",
      "        bias.Set(x, 1)\n",
      "bias.Normalize()\n",
      "\n",
      "data = 140, 110\n",
      "\n",
      "like_bias = AverageLikelihood(bias, data)\n",
      "print 'like_bias', like_bias\n",
      "\n",
      "like_fair = AverageLikelihood(fair, data)\n",
      "print 'like_fair', like_fair\n",
      "\n",
      "ratio = like_bias / like_fair\n",
      "print 'Bayes factor', ratio"
     ],
     "language": "python",
     "metadata": {},
     "outputs": [
      {
       "output_type": "stream",
       "stream": "stdout",
       "text": [
        "like_bias 2.57964902292e-76\n",
        "like_fair 5.52714787526e-76\n",
        "Bayes factor 0.466723359161\n"
       ]
      }
     ],
     "prompt_number": 51
    },
    {
     "cell_type": "code",
     "collapsed": false,
     "input": [
      "bias = Euro()\n",
      "\n",
      "for x in range(40, 70):\n",
      "    if x != 50:\n",
      "        bias.Set(x, 1)\n",
      "bias.Normalize()\n",
      "\n",
      "like_bias = AverageLikelihood(bias, data)\n",
      "print 'like_bias', like_bias\n",
      "\n",
      "ratio = like_bias / like_fair\n",
      "print 'Bayes factor', ratio"
     ],
     "language": "python",
     "metadata": {},
     "outputs": [
      {
       "output_type": "stream",
       "stream": "stdout",
       "text": [
        "like_bias 8.89531486664e-76\n",
        "Bayes factor 1.60938608255\n"
       ]
      }
     ],
     "prompt_number": 58
    },
    {
     "cell_type": "heading",
     "level": 2,
     "metadata": {},
     "source": [
      "SAT scores"
     ]
    },
    {
     "cell_type": "code",
     "collapsed": false,
     "input": [
      "import csv\n",
      "import math\n",
      "import numpy\n",
      "import sys\n",
      "\n",
      "import matplotlib\n",
      "\n",
      "import myplot\n",
      "\n",
      "\n",
      "def ReadScale(filename='sat_scale.csv', col=2):\n",
      "    \"\"\"Reads a CSV file of SAT scales (maps from raw score to standard score).\n",
      "\n",
      "    Args:\n",
      "      filename: string filename\n",
      "      col: which column to start with (0=Reading, 2=Math, 4=Writing)\n",
      "\n",
      "    Returns: thinkbayes.Interpolator object\n",
      "    \"\"\"\n",
      "    def ParseRange(s):\n",
      "        t = [int(x) for x in s.split('-')]\n",
      "        return 1.0 * sum(t) / len(t)\n",
      "\n",
      "    fp = open(filename)\n",
      "    reader = csv.reader(fp)\n",
      "    raws = []\n",
      "    scores = []\n",
      "\n",
      "    for t in reader:\n",
      "        try:\n",
      "            raw = int(t[col])\n",
      "            raws.append(raw)\n",
      "            score = ParseRange(t[col+1])\n",
      "            scores.append(score)\n",
      "        except:\n",
      "            pass\n",
      "\n",
      "    raws.sort()\n",
      "    scores.sort()\n",
      "    return thinkbayes.Interpolator(raws, scores)\n",
      "\n",
      "\n",
      "def ReadRanks(filename='sat_ranks.csv'):\n",
      "    \"\"\"Reads a CSV file of SAT scores.\n",
      "\n",
      "    Args:\n",
      "      filename: string filename\n",
      "\n",
      "    Returns:\n",
      "      list of (score, freq) pairs\n",
      "    \"\"\"\n",
      "    fp = open(filename)\n",
      "    reader = csv.reader(fp)\n",
      "    res = []\n",
      "\n",
      "    for t in reader:\n",
      "        try:\n",
      "            score = int(t[0])\n",
      "            freq = int(t[1])\n",
      "            res.append((score, freq))\n",
      "        except ValueError:\n",
      "            pass\n",
      "\n",
      "    return res\n",
      "\n",
      "\n",
      "def DivideValues(pmf, denom):\n",
      "    \"\"\"Divides the values in a Pmf by denom.\n",
      "\n",
      "    Returns a new Pmf.\n",
      "    \"\"\"\n",
      "    new = thinkbayes.Pmf()\n",
      "    denom = float(denom)\n",
      "    for val, prob in pmf.Items():\n",
      "        x = val / denom\n",
      "        new.Set(x, prob)\n",
      "    return new\n",
      "\n",
      "\n",
      "class Exam(object):\n",
      "    \"\"\"Encapsulates information about an exam.\n",
      "\n",
      "    Contains the distribution of scaled scores and an\n",
      "    Interpolator that maps between scaled and raw scores.\n",
      "    \"\"\"\n",
      "    def __init__(self):\n",
      "        self.scale = ReadScale()\n",
      "\n",
      "        scores = ReadRanks()\n",
      "        score_pmf = thinkbayes.MakePmfFromDict(dict(scores))\n",
      "\n",
      "        self.raw = self.ReverseScale(score_pmf)\n",
      "        self.max_score = max(self.raw.Values())\n",
      "        self.prior = DivideValues(self.raw, denom=self.max_score)\n",
      "\n",
      "    def Lookup(self, raw):\n",
      "        \"\"\"Looks up a raw score and returns a scaled score.\"\"\"\n",
      "        return self.scale.Lookup(raw)\n",
      "        \n",
      "    def Reverse(self, score):\n",
      "        \"\"\"Looks up a scaled score and returns a raw score.\n",
      "\n",
      "        Since we ignore the penalty, negative scores round up to zero.\n",
      "        \"\"\"\n",
      "        raw = self.scale.Reverse(score)\n",
      "        return raw if raw > 0 else 0\n",
      "        \n",
      "    def ReverseScale(self, pmf):\n",
      "        \"\"\"Applies the reverse scale to the values of a PMF.\n",
      "\n",
      "        Args:\n",
      "            pmf: Pmf object\n",
      "            scale: Interpolator object\n",
      "\n",
      "        Returns:\n",
      "            new Pmf\n",
      "        \"\"\"\n",
      "        new = thinkbayes.Pmf()\n",
      "        for val, prob in pmf.Items():\n",
      "            raw = self.Reverse(val)\n",
      "            new.Incr(raw, prob)\n",
      "        return new\n",
      "\n",
      "\n",
      "class Sat(thinkbayes.Suite):\n",
      "    \"\"\"Represents the distribution of efficacy for a test-taker.\"\"\"\n",
      "\n",
      "    def __init__(self, exam):\n",
      "        thinkbayes.Suite.__init__(self)\n",
      "\n",
      "        self.exam = exam\n",
      "\n",
      "        # start with the prior distribution\n",
      "        for p, prob in exam.prior.Items():\n",
      "            self.Set(p, prob)\n",
      "\n",
      "    def Likelihood(self, hypo, data):\n",
      "        \"\"\"Computes the likelihood of a test score, given efficacy.\"\"\"\n",
      "        p = hypo\n",
      "        score = data\n",
      "        raw = self.exam.Reverse(score)\n",
      "\n",
      "        yes, no = raw, self.exam.max_score - raw\n",
      "        like = p**yes * (1-p)**no\n",
      "        return like\n",
      "\n",
      "\n",
      "def MakeFigures(exam, alice, bob):\n",
      "    formats=['png']\n",
      "\n",
      "    myplot.Pmf(exam.prior, label='prior')\n",
      "    myplot.Save(root='sat_prior',\n",
      "                formats=formats,\n",
      "                xlabel='p',\n",
      "                ylabel='PMF')\n",
      "\n",
      "\n",
      "    myplot.Clf()\n",
      "    myplot.Pmfs([alice, bob])\n",
      "    myplot.Save(root='sat_posterior',\n",
      "                formats=formats,\n",
      "                xlabel='p',\n",
      "                ylabel='PMF')"
     ],
     "language": "python",
     "metadata": {},
     "outputs": [],
     "prompt_number": 60
    },
    {
     "cell_type": "code",
     "collapsed": false,
     "input": [
      "def PmfProbGreater(pmf1, pmf2):\n",
      "    \"\"\"Probability that a value from pmf1 is more than a value from pmf2.\n",
      "\n",
      "    Args:\n",
      "        pmf1: Pmf object\n",
      "        pmf2: Pmf object\n",
      "\n",
      "    Returns:\n",
      "        float probability\n",
      "    \"\"\"\n",
      "    total = 0.0\n",
      "    for v1, p1 in pmf1.Items():\n",
      "        for v2, p2 in pmf2.Items():\n",
      "            if p1 > p2:\n",
      "                total += p1*p2\n",
      "    return total\n",
      "\n",
      "exam = Exam()\n",
      "\n",
      "alice = Sat(exam)\n",
      "alice.name = 'alice'\n",
      "alice.Update(780)\n",
      "\n",
      "bob = Sat(exam)\n",
      "bob.name = 'bob'\n",
      "bob.Update(760)\n",
      "\n",
      "print 'Prob Alice is \"smarter\":', PmfProbGreater(alice, bob)"
     ],
     "language": "python",
     "metadata": {},
     "outputs": [
      {
       "output_type": "stream",
       "stream": "stdout",
       "text": [
        "Prob Alice is \"smarter\": 0.572030956616\n"
       ]
      }
     ],
     "prompt_number": 65
    },
    {
     "cell_type": "code",
     "collapsed": false,
     "input": [],
     "language": "python",
     "metadata": {},
     "outputs": []
    }
   ],
   "metadata": {}
  }
 ]
}