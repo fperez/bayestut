{
 "metadata": {
  "name": "Bayes-1"
 },
 "nbformat": 3,
 "nbformat_minor": 0,
 "worksheets": [
  {
   "cells": [
    {
     "cell_type": "code",
     "collapsed": false,
     "input": [
      "from thinkbayes import Pmf"
     ],
     "language": "python",
     "metadata": {},
     "outputs": [],
     "prompt_number": 1
    },
    {
     "cell_type": "code",
     "collapsed": false,
     "input": [
      "pmf = Pmf()\n",
      "for x in range(1, 7):\n",
      "    pmf.Set(x, 1)"
     ],
     "language": "python",
     "metadata": {},
     "outputs": [],
     "prompt_number": 2
    },
    {
     "cell_type": "code",
     "collapsed": false,
     "input": [
      "pmf.Print()"
     ],
     "language": "python",
     "metadata": {},
     "outputs": [
      {
       "output_type": "stream",
       "stream": "stdout",
       "text": [
        "1 1\n",
        "2 1\n",
        "3 1\n",
        "4 1\n",
        "5 1\n",
        "6 1\n"
       ]
      }
     ],
     "prompt_number": 3
    },
    {
     "cell_type": "code",
     "collapsed": false,
     "input": [
      "pmf.Normalize()"
     ],
     "language": "python",
     "metadata": {},
     "outputs": [
      {
       "output_type": "pyout",
       "prompt_number": 4,
       "text": [
        "6"
       ]
      }
     ],
     "prompt_number": 4
    },
    {
     "cell_type": "code",
     "collapsed": false,
     "input": [
      "pmf.Print()"
     ],
     "language": "python",
     "metadata": {},
     "outputs": [
      {
       "output_type": "stream",
       "stream": "stdout",
       "text": [
        "1 0.166666666667\n",
        "2 0.166666666667\n",
        "3 0.166666666667\n",
        "4 0.166666666667\n",
        "5 0.166666666667\n",
        "6 0.166666666667\n"
       ]
      }
     ],
     "prompt_number": 5
    },
    {
     "cell_type": "heading",
     "level": 2,
     "metadata": {},
     "source": [
      "Prior"
     ]
    },
    {
     "cell_type": "code",
     "collapsed": false,
     "input": [
      "pmf = Pmf()\n",
      "pmf.Set('Bowl 1', 0.5)\n",
      "pmf.Set('Bowl 2', 0.5)"
     ],
     "language": "python",
     "metadata": {},
     "outputs": [],
     "prompt_number": 6
    },
    {
     "cell_type": "heading",
     "level": 2,
     "metadata": {},
     "source": [
      "Update"
     ]
    },
    {
     "cell_type": "code",
     "collapsed": false,
     "input": [
      "pmf.Mult('Bowl 1', 0.75)\n",
      "pmf.Mult('Bowl 2', 0.5)"
     ],
     "language": "python",
     "metadata": {},
     "outputs": [],
     "prompt_number": 7
    },
    {
     "cell_type": "heading",
     "level": 2,
     "metadata": {},
     "source": [
      "Normalize"
     ]
    },
    {
     "cell_type": "code",
     "collapsed": false,
     "input": [
      "pmf.Normalize()\n",
      "print pmf.Prob('Bowl 1')"
     ],
     "language": "python",
     "metadata": {},
     "outputs": [
      {
       "output_type": "stream",
       "stream": "stdout",
       "text": [
        "0.6\n"
       ]
      }
     ],
     "prompt_number": 8
    },
    {
     "cell_type": "code",
     "collapsed": false,
     "input": [],
     "language": "python",
     "metadata": {},
     "outputs": []
    }
   ],
   "metadata": {}
  }
 ]
}